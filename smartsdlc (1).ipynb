# =============================
# 📌 Step 1: Install dependencies
# =============================
!pip install torch transformers gradio PyPDF2 -q

# =============================
# 📌 Step 2: Import libraries
# =============================
import gradio as gr
import torch
from transformers import AutoTokenizer, AutoModelForCausalLM
import PyPDF2
import io

# =============================
# 📌 Step 3: Load Model & Tokenizer
# =============================
model_name = "ibm-granite/granite-3.2-2b-instruct"

tokenizer = AutoTokenizer.from_pretrained(model_name)
model = AutoModelForCausalLM.from_pretrained(
    model_name,
    torch_dtype=torch.float16 if torch.cuda.is_available() else torch.float32,
    device_map="auto" if torch.cuda.is_available() else None
)

# Ensure pad token is set
if tokenizer.pad_token is None:
    tokenizer.pad_token = tokenizer.eos_token

# =============================
# 📌 Step 4: Helper Functions
# =============================
def generate_response(prompt, max_length=1024):
    """Generate text from the model based on a prompt."""
    inputs = tokenizer(prompt, return_tensors="pt", truncation=True, max_length=512)

    if torch.cuda.is_available():
        inputs = {k: v.to(model.device) for k, v in inputs.items()}

    with torch.no_grad():
        outputs = model.generate(
            **inputs,
            max_length=max_length,
            temperature=0.7,
            do_sample=True,
            pad_token_id=tokenizer.eos_token_id
        )

    response = tokenizer.decode(outputs[0], skip_special_tokens=True)
    response = response.replace(prompt, "").strip()
    return response


def extract_text_from_pdf(pdf_file):
    """Extract text from an uploaded PDF."""
    if pdf_file is None:
        return ""

    try:
        pdf_reader = PyPDF2.PdfReader(pdf_file.name)
        text = ""
        for page in pdf_reader.pages:
            text += page.extract_text() + "\n"
        return text
    except Exception as e:
        return f"Error reading PDF: {str(e)}"


def requirement_analysis(pdf_file, prompt_text):
    """Analyze requirements from either PDF or text input."""
    if pdf_file is not None:
        content = extract_text_from_pdf(pdf_file)
        analysis_prompt = (
            "Analyze the following document and extract key software requirements. "
            "Organize them into functional requirements, non-functional requirements, "
            f"and technical specifications:\n\n{content}"
        )
    else:
        analysis_prompt = (
            "Analyze the following requirements and organize them into functional requirements, "
            "non-functional requirements, and technical specifications:\n\n"
            f"{prompt_text}"
        )

    return generate_response(analysis_prompt, max_length=1200)


def code_generation(prompt, language):
    """Generate code for a given requirement in a chosen language."""
    code_prompt = f"Generate {language} code for the following requirement:\n\n{prompt}\n\nCode:"
    return generate_response(code_prompt, max_length=1200)

# =============================
# 📌 Step 5: Build Gradio App
# =============================
with gr.Blocks() as app:
    gr.Markdown("# 🤖 AI Requirement Analyzer & Code Generator")

    with gr.Tabs():
        # ----- Requirement Analysis Tab -----
        with gr.TabItem("Requirement Analysis"):
            with gr.Row():
                with gr.Column():
                    pdf_upload = gr.File(label="📄 Upload PDF", file_types=[".pdf"])
                    prompt_input = gr.Textbox(
                        label="✍️ Or enter requirements",
                        placeholder="Describe your software requirements here...",
                        lines=5
                    )
                    analyze_btn = gr.Button("🔍 Analyze")

                with gr.Column():
                    analysis_output = gr.Textbox(
                        label="📌 Requirements Analysis",
                        lines=20
                    )

            analyze_btn.click(
                requirement_analysis,
                inputs=[pdf_upload, prompt_input],
                outputs=analysis_output
            )

        # ----- Code Generation Tab -----
        with gr.TabItem("Code Generation"):
            with gr.Row():
                with gr.Column():
                    code_prompt = gr.Textbox(
                        label="💡 Code Requirements",
                        placeholder="Describe what code you want to generate...",
                        lines=5
                    )
                    language_dropdown = gr.Dropdown(
                        choices=["Python", "JavaScript", "Java", "C++", "C#", "PHP", "Go", "Rust"],
                        label="Select Programming Language",
                        value="Python"
                    )
                    generate_btn = gr.Button("⚡ Generate Code")

                with gr.Column():
                    code_output = gr.Textbox(
                        label="🖥️ Generated Code",
                        lines=20
                    )

            generate_btn.click(
                code_generation,
                inputs=[code_prompt, language_dropdown],
                outputs=code_output
            )

# =============================
# 📌 Step 6: Launch App
# =============================
app.launch(share=True)
